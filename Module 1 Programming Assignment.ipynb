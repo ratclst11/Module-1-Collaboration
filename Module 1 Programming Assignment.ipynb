{
 "cells": [
  {
   "cell_type": "code",
   "execution_count": 19,
   "id": "1ba467f0-ddcc-43ea-8513-83fc94658ac8",
   "metadata": {},
   "outputs": [
    {
     "name": "stdout",
     "output_type": "stream",
     "text": [
      "3600\n"
     ]
    }
   ],
   "source": [
    "# Calculate the number of seconds in an hour\n",
    "seconds_in_a_minute = 60\n",
    "minutes_in_an_hour = 60\n",
    "\n",
    "seconds_in_an_hour = seconds_in_a_minute * minutes_in_an_hour\n",
    "\n",
    "# Print the result\n",
    "print(seconds_in_an_hour)"
   ]
  },
  {
   "cell_type": "code",
   "execution_count": 21,
   "id": "01843454-a00a-41b4-b8b5-1dc9f8606509",
   "metadata": {},
   "outputs": [
    {
     "name": "stdout",
     "output_type": "stream",
     "text": [
      "3600\n"
     ]
    }
   ],
   "source": [
    "# Calculate the number of seconds in an hour\n",
    "seconds_in_a_minute = 60\n",
    "minutes_in_an_hour = 60\n",
    "\n",
    "# Assign the result to a variable\n",
    "seconds_per_hour = seconds_in_a_minute * minutes_in_an_hour\n",
    "\n",
    "# Print the result\n",
    "print(seconds_per_hour)"
   ]
  },
  {
   "cell_type": "code",
   "execution_count": 23,
   "id": "eaab14d0-47d5-4a1e-9079-b0de63a45eed",
   "metadata": {
    "scrolled": true
   },
   "outputs": [
    {
     "name": "stdout",
     "output_type": "stream",
     "text": [
      "86400\n"
     ]
    }
   ],
   "source": [
    "# Calculate the number of seconds in a day using the seconds_per_hour variable\n",
    "hours_in_a_day = 24\n",
    "seconds_per_hour = 3600\n",
    "\n",
    "# Assign the result to a variable\n",
    "seconds_per_day = seconds_per_hour * hours_in_a_day\n",
    "\n",
    "# Print the result\n",
    "print(seconds_per_day)"
   ]
  },
  {
   "cell_type": "code",
   "execution_count": 25,
   "id": "7ef1fa72-912e-4f2e-b077-e8715ea46139",
   "metadata": {},
   "outputs": [
    {
     "name": "stdout",
     "output_type": "stream",
     "text": [
      "86400\n"
     ]
    }
   ],
   "source": [
    "# Calculate the number of seconds in a day using the seconds_per_hour variable\n",
    "hours_in_a_day = 24\n",
    "seconds_per_hour = 3600\n",
    "\n",
    "# Assign the result to a variable\n",
    "seconds_per_day = seconds_per_hour * hours_in_a_day\n",
    "\n",
    "# Print the result\n",
    "print(seconds_per_day)"
   ]
  },
  {
   "cell_type": "code",
   "execution_count": 27,
   "id": "2fb0c8ed-3d0a-43ad-8773-2bd0b0bebfd5",
   "metadata": {},
   "outputs": [
    {
     "name": "stdout",
     "output_type": "stream",
     "text": [
      "24.0\n"
     ]
    }
   ],
   "source": [
    "# Divide seconds_per_day by seconds_per_hour using floating-point (/) division\n",
    "seconds_per_day = 86400\n",
    "seconds_per_hour = 3600\n",
    "\n",
    "result = seconds_per_day / seconds_per_hour\n",
    "\n",
    "# Print the result\n",
    "print(result)"
   ]
  },
  {
   "cell_type": "code",
   "execution_count": 29,
   "id": "64dba5f9-996e-41c6-9462-1b88f0cd1c90",
   "metadata": {},
   "outputs": [
    {
     "name": "stdout",
     "output_type": "stream",
     "text": [
      "24\n"
     ]
    }
   ],
   "source": [
    "# Divide seconds_per_day by seconds_per_hour using integer (//) division\n",
    "seconds_per_day = 86400\n",
    "seconds_per_hour = 3600\n",
    "\n",
    "result_integer_division = seconds_per_day // seconds_per_hour\n",
    "\n",
    "# Print the result\n",
    "print(result_integer_division)"
   ]
  },
  {
   "cell_type": "code",
   "execution_count": null,
   "id": "740074b9-6093-482c-970e-72d302778612",
   "metadata": {},
   "outputs": [],
   "source": []
  }
 ],
 "metadata": {
  "kernelspec": {
   "display_name": "Python [conda env:base] *",
   "language": "python",
   "name": "conda-base-py"
  },
  "language_info": {
   "codemirror_mode": {
    "name": "ipython",
    "version": 3
   },
   "file_extension": ".py",
   "mimetype": "text/x-python",
   "name": "python",
   "nbconvert_exporter": "python",
   "pygments_lexer": "ipython3",
   "version": "3.12.7"
  }
 },
 "nbformat": 4,
 "nbformat_minor": 5
}
